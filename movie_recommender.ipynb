{
 "cells": [
  {
   "cell_type": "markdown",
   "metadata": {},
   "source": [
    "# Movie Recommendation\n",
    "Data: scraped from imdb top 200\n",
    "Goal:\n",
    "- content based recommendation system"
   ]
  },
  {
   "cell_type": "code",
   "execution_count": 2,
   "metadata": {},
   "outputs": [],
   "source": [
    "import pandas as pd\n",
    "\n",
    "pd.set_option('display.max_colwidth', None)"
   ]
  },
  {
   "cell_type": "code",
   "execution_count": 3,
   "metadata": {},
   "outputs": [
    {
     "data": {
      "text/html": [
       "<div>\n",
       "<style scoped>\n",
       "    .dataframe tbody tr th:only-of-type {\n",
       "        vertical-align: middle;\n",
       "    }\n",
       "\n",
       "    .dataframe tbody tr th {\n",
       "        vertical-align: top;\n",
       "    }\n",
       "\n",
       "    .dataframe thead th {\n",
       "        text-align: right;\n",
       "    }\n",
       "</style>\n",
       "<table border=\"1\" class=\"dataframe\">\n",
       "  <thead>\n",
       "    <tr style=\"text-align: right;\">\n",
       "      <th></th>\n",
       "      <th>name</th>\n",
       "      <th>metascore</th>\n",
       "      <th>imdbscore</th>\n",
       "      <th>categories</th>\n",
       "      <th>director_id</th>\n",
       "    </tr>\n",
       "    <tr>\n",
       "      <th>id</th>\n",
       "      <th></th>\n",
       "      <th></th>\n",
       "      <th></th>\n",
       "      <th></th>\n",
       "      <th></th>\n",
       "    </tr>\n",
       "  </thead>\n",
       "  <tbody>\n",
       "    <tr>\n",
       "      <th>tt15239678</th>\n",
       "      <td>Dune: Part Two</td>\n",
       "      <td>79.0</td>\n",
       "      <td>8.7</td>\n",
       "      <td>['Action', 'Abenteuer', 'Drama']</td>\n",
       "      <td>nm0898288</td>\n",
       "    </tr>\n",
       "    <tr>\n",
       "      <th>tt23289160</th>\n",
       "      <td>Godzilla Minus One</td>\n",
       "      <td>81.0</td>\n",
       "      <td>8.3</td>\n",
       "      <td>['Action', 'Abenteuer', 'Drama']</td>\n",
       "      <td>nm0945724</td>\n",
       "    </tr>\n",
       "    <tr>\n",
       "      <th>tt23849204</th>\n",
       "      <td>12th Fail</td>\n",
       "      <td>NaN</td>\n",
       "      <td>9.0</td>\n",
       "      <td>['Biografie', 'Drama']</td>\n",
       "      <td>nm0006765</td>\n",
       "    </tr>\n",
       "    <tr>\n",
       "      <th>tt15398776</th>\n",
       "      <td>Oppenheimer</td>\n",
       "      <td>90.0</td>\n",
       "      <td>8.3</td>\n",
       "      <td>['Biografie', 'Drama', 'Geschichte']</td>\n",
       "      <td>nm0634240</td>\n",
       "    </tr>\n",
       "    <tr>\n",
       "      <th>tt9362722</th>\n",
       "      <td>Spider-Man: Across the Spider-Verse</td>\n",
       "      <td>86.0</td>\n",
       "      <td>8.6</td>\n",
       "      <td>['Animation', 'Action', 'Abenteuer']</td>\n",
       "      <td>nm1690966</td>\n",
       "    </tr>\n",
       "  </tbody>\n",
       "</table>\n",
       "</div>"
      ],
      "text/plain": [
       "                                           name  metascore  imdbscore  \\\n",
       "id                                                                      \n",
       "tt15239678                       Dune: Part Two       79.0        8.7   \n",
       "tt23289160                   Godzilla Minus One       81.0        8.3   \n",
       "tt23849204                            12th Fail        NaN        9.0   \n",
       "tt15398776                          Oppenheimer       90.0        8.3   \n",
       "tt9362722   Spider-Man: Across the Spider-Verse       86.0        8.6   \n",
       "\n",
       "                                      categories director_id  \n",
       "id                                                            \n",
       "tt15239678      ['Action', 'Abenteuer', 'Drama']   nm0898288  \n",
       "tt23289160      ['Action', 'Abenteuer', 'Drama']   nm0945724  \n",
       "tt23849204                ['Biografie', 'Drama']   nm0006765  \n",
       "tt15398776  ['Biografie', 'Drama', 'Geschichte']   nm0634240  \n",
       "tt9362722   ['Animation', 'Action', 'Abenteuer']   nm1690966  "
      ]
     },
     "execution_count": 3,
     "metadata": {},
     "output_type": "execute_result"
    }
   ],
   "source": [
    "movies_df = pd.read_csv(\"./data/movies/movies.csv\").set_index(\"id\")\n",
    "movies_df.head()"
   ]
  },
  {
   "cell_type": "code",
   "execution_count": 10,
   "metadata": {},
   "outputs": [
    {
     "name": "stdout",
     "output_type": "stream",
     "text": [
      "Books: 250\n",
      "Different Words: 700\n"
     ]
    }
   ],
   "source": [
    "# content based approach with tfidf\n",
    "from sklearn.feature_extraction.text import CountVectorizer\n",
    "from sklearn.metrics.pairwise import cosine_similarity\n",
    "\n",
    "df = movies_df.copy().reset_index()\n",
    "df['Text'] = df['name'] + ' ' + df['categories'] + ' ' + df['director_id']\n",
    "cv = CountVectorizer(stop_words='english') # CountVectorizer probably better in this context with categories\n",
    "cv_matrix = cv.fit_transform(df['Text'])\n",
    "# Compute the cosine similarity matrix\n",
    "# After TF-IDF calculating the dot product gives us directly the cosine simularity, thats why we can use linear_kernel instead of cosine_simularity\n",
    "cosine_sim = cosine_similarity(cv_matrix)\n",
    "indices = pd.Series(df.index, index=df['Text']) # reverse mapping of row numbers to \n",
    "print(f\"Movies: {cv_matrix.shape[0]}\\nDifferent Words: {cv_matrix.shape[1]}\")"
   ]
  },
  {
   "cell_type": "code",
   "execution_count": 12,
   "metadata": {},
   "outputs": [],
   "source": [
    "def get_recommendations(title, k, cosine_sim, df):\n",
    "    idx = indices[title]\n",
    "    sim_scores = list(enumerate(cosine_sim[idx]))\n",
    "    sim_scores = sorted(sim_scores, key=lambda x: x[1], reverse=True)\n",
    "    book_indices = [i[0] for i in sim_scores[1:k]]  # exclude 0, because its the search term\n",
    "    return df['Text'].iloc[book_indices]"
   ]
  },
  {
   "cell_type": "code",
   "execution_count": 15,
   "metadata": {},
   "outputs": [
    {
     "data": {
      "text/plain": [
       "100             Gladiator ['Action', 'Abenteuer', 'Drama'] nm0000631\n",
       "1      Godzilla Minus One ['Action', 'Abenteuer', 'Drama'] nm0945724\n",
       "15      Avengers: Endgame ['Action', 'Abenteuer', 'Drama'] nm0751577\n",
       "5                    Top Gun: Maverick ['Action', 'Drama'] nm2676052\n",
       "10                  1917 ['Action', 'Drama', 'Geschichte'] nm0005222\n",
       "38                 Prisoners ['Krimi', 'Drama', 'Mystery'] nm0898288\n",
       "44                Warrior ['Action', 'Drama', 'Sportfilm'] nm0640334\n",
       "64       Into the Wild ['Abenteuer', 'Biografie', 'Drama'] nm0000576\n",
       "82                   Oldboy ['Action', 'Drama', 'Mystery'] nm0661791\n",
       "Name: Text, dtype: object"
      ]
     },
     "execution_count": 15,
     "metadata": {},
     "output_type": "execute_result"
    }
   ],
   "source": [
    "get_recommendations(\"Dune: Part Two ['Action', 'Abenteuer', 'Drama'] nm0898288\", 10, cosine_sim, df)"
   ]
  },
  {
   "cell_type": "code",
   "execution_count": 17,
   "metadata": {},
   "outputs": [
    {
     "data": {
      "text/plain": [
       "8                              Hamilton ['Biografie', 'Drama', 'Geschichte'] nm2371802\n",
       "76                         Hotel Ruanda ['Biografie', 'Drama', 'Geschichte'] nm0313623\n",
       "77                        Der Untergang ['Biografie', 'Drama', 'Geschichte'] nm0386570\n",
       "133                    Schindlers Liste ['Biografie', 'Drama', 'Geschichte'] nm0000229\n",
       "39                     12 Years a Slave ['Biografie', 'Drama', 'Geschichte'] nm2588606\n",
       "24     Hacksaw Ridge - Die Entscheidung ['Biografie', 'Drama', 'Geschichte'] nm0000154\n",
       "244        Die Passion der Jeanne d'Arc ['Biografie', 'Drama', 'Geschichte'] nm0003433\n",
       "2                                           12th Fail ['Biografie', 'Drama'] nm0006765\n",
       "10                                    1917 ['Action', 'Drama', 'Geschichte'] nm0005222\n",
       "Name: Text, dtype: object"
      ]
     },
     "execution_count": 17,
     "metadata": {},
     "output_type": "execute_result"
    }
   ],
   "source": [
    "get_recommendations(\"Oppenheimer ['Biografie', 'Drama', 'Geschichte'] nm0634240\", 10, cosine_sim, df)"
   ]
  },
  {
   "cell_type": "code",
   "execution_count": 18,
   "metadata": {},
   "outputs": [
    {
     "data": {
      "text/plain": [
       "16       Spider-Man: A New Universe ['Animation', 'Action', 'Abenteuer'] nm2130108\n",
       "6             Spider-Man: No Way Home ['Action', 'Abenteuer', 'Fantasy'] nm1218281\n",
       "75                Die Unglaublichen ['Animation', 'Action', 'Abenteuer'] nm0083348\n",
       "114             Prinzessin Mononoke ['Animation', 'Action', 'Abenteuer'] nm0594503\n",
       "51     Drachenzähmen leicht gemacht ['Animation', 'Action', 'Abenteuer'] nm0213450\n",
       "105          Der Gigant aus dem All ['Animation', 'Action', 'Abenteuer'] nm0083348\n",
       "0                        Dune: Part Two ['Action', 'Abenteuer', 'Drama'] nm0898288\n",
       "11                           Klaus ['Animation', 'Abenteuer', 'Komödie'] nm0655053\n",
       "57                            Oben ['Animation', 'Abenteuer', 'Komödie'] nm0230032\n",
       "Name: Text, dtype: object"
      ]
     },
     "execution_count": 18,
     "metadata": {},
     "output_type": "execute_result"
    }
   ],
   "source": [
    "get_recommendations(\"Spider-Man: Across the Spider-Verse ['Animation', 'Action', 'Abenteuer'] nm1690966\", 10, cosine_sim, df)"
   ]
  }
 ],
 "metadata": {
  "kernelspec": {
   "display_name": ".venv",
   "language": "python",
   "name": "python3"
  },
  "language_info": {
   "codemirror_mode": {
    "name": "ipython",
    "version": 3
   },
   "file_extension": ".py",
   "mimetype": "text/x-python",
   "name": "python",
   "nbconvert_exporter": "python",
   "pygments_lexer": "ipython3",
   "version": "3.11.3"
  }
 },
 "nbformat": 4,
 "nbformat_minor": 2
}
