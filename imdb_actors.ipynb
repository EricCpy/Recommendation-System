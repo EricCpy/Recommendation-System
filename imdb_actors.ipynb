{
 "cells": [
  {
   "cell_type": "code",
   "execution_count": 31,
   "metadata": {},
   "outputs": [],
   "source": [
    "from bs4 import BeautifulSoup\n",
    "from selenium import webdriver\n",
    "import pandas as pd\n",
    "from selenium.webdriver.support.ui import WebDriverWait\n",
    "from selenium.webdriver.support import expected_conditions as EC\n",
    "from selenium.webdriver.common.by import By\n",
    "import time"
   ]
  },
  {
   "cell_type": "code",
   "execution_count": 36,
   "metadata": {},
   "outputs": [],
   "source": [
    "def open_href_in_new_window(driver, href, wait_by):\n",
    "    driver.execute_script(\"window.open('{}', '_blank');\".format(href))\n",
    "    driver.switch_to.window(driver.window_handles[-1])\n",
    "    driver.implicitly_wait(10)\n",
    "    WebDriverWait(driver, 10).until(EC.presence_of_element_located(wait_by))\n",
    "    time.sleep(2)\n",
    "    \n",
    "def close_current_window(driver):\n",
    "    driver.close()\n",
    "    driver.switch_to.window(driver.window_handles[-1])"
   ]
  },
  {
   "cell_type": "code",
   "execution_count": 33,
   "metadata": {},
   "outputs": [],
   "source": [
    "url = \"https://m.imdb.com/chart/top/?sort=release_date%2Cdesc\"\n",
    "driver = webdriver.Firefox()\n",
    "driver.install_addon('uBlock0@raymondhill.net.xpi', temporary=True)\n",
    "driver.get(url)\n",
    "driver.implicitly_wait(10)"
   ]
  },
  {
   "cell_type": "code",
   "execution_count": 34,
   "metadata": {},
   "outputs": [],
   "source": [
    "html = driver.page_source\n",
    "soup = BeautifulSoup(html, \"html.parser\")\n",
    "ul = soup.find(\"ul\", class_=\"ipc-metadata-list\")\n",
    "li_items = ul.find_all(\"li\")\n",
    "assert len(li_items) == 250"
   ]
  },
  {
   "cell_type": "code",
   "execution_count": 37,
   "metadata": {},
   "outputs": [],
   "source": [
    "movies_dict = {\"id\": [], \"name\": [], \"metascore\": [], \"imdbscore\": [], \"categories\": [], \"director_id\": []}\n",
    "actors_dict = {\"id\": [], \"name\": [], \"movie_id\": [], \"role\": []}\n",
    "failed_lis = []\n",
    "\n",
    "for li in li_items:\n",
    "    a = li.find(\"a\")\n",
    "    if not a:\n",
    "        failed_lis.append(li)\n",
    "    try:\n",
    "        href = a.get(\"href\")\n",
    "        open_href_in_new_window(driver, href, (By.CSS_SELECTOR, 'li[data-testid=\"title-pc-principal-credit\"]'))\n",
    "        movie_html = driver.page_source\n",
    "        movie_soup = BeautifulSoup(movie_html, \"html.parser\")\n",
    "        url_split = driver.current_url.split('/')\n",
    "        movie_id = url_split[url_split.index(\"title\") + 1]\n",
    "        \n",
    "        # wird auch für Actortable benötigt\n",
    "        director_div = movie_soup.find('li', {'data-testid': 'title-pc-principal-credit'})\n",
    "        director_id = director_div.find('a').get(\"href\").split('/')[2]\n",
    "        director_name = director_div.find('a').text\n",
    "        \n",
    "        actors_dict[\"id\"].append(director_id)\n",
    "        actors_dict[\"name\"].append(director_name)\n",
    "        actors_dict[\"role\"].append(\"Director\")\n",
    "        actors_dict[\"movie_id\"].append(movie_id)\n",
    "        \n",
    "        movies_dict[\"id\"].append(movie_id)\n",
    "        movies_dict[\"name\"].append(movie_soup.find(\"span\", class_=\"hero__primary-text\").text)\n",
    "        metascore_span = movie_soup.find('span', class_=\"metacritic-score-box\")\n",
    "        movies_dict[\"metascore\"].append(metascore_span.text if metascore_span else None)\n",
    "        movies_dict[\"imdbscore\"].append(movie_soup.find('div', {'data-testid': 'hero-rating-bar__aggregate-rating__score'}).find('span').text.replace(',', '.'))\n",
    "        movies_dict[\"categories\"].append([category.find(\"span\").text for category in movie_soup.find(\"div\", {'data-testid': 'genres'}).find_all(\"a\")])\n",
    "        movies_dict[\"director_id\"].append(director_id)\n",
    "        \n",
    "        actor_href = movie_soup.find(\"section\", {'data-testid': 'title-cast'}).find(\"a\").get(\"href\")\n",
    "        open_href_in_new_window(driver, actor_href, (By.ID, 'fullcredits-content'))\n",
    "        actor_html = driver.page_source\n",
    "        actor_soup = BeautifulSoup(actor_html, \"html.parser\")\n",
    "        actor_items = actor_soup.find(\"section\", {'id': 'fullcredits-content'}).find_all(\"a\")\n",
    "        for actor in actor_items:\n",
    "            actors_dict[\"id\"].append(actor.get(\"href\").split('/')[2])\n",
    "            actors_dict[\"name\"].append(actor.find(\"h4\").text)\n",
    "            actors_dict[\"role\"].append(actor.find(\"p\").text if actor.find(\"p\") else None)\n",
    "            actors_dict[\"movie_id\"].append(movie_id)\n",
    "            \n",
    "        close_current_window(driver) # close actor window\n",
    "        close_current_window(driver) # close movie window\n",
    "    except:\n",
    "        failed_lis.append(li)\n",
    "\n",
    "\n",
    "if len(failed_lis) > 0:\n",
    "    print(f\"{len(failed_lis)} konnten nicht vollständig erfasst werden.\")"
   ]
  },
  {
   "cell_type": "code",
   "execution_count": 38,
   "metadata": {},
   "outputs": [
    {
     "data": {
      "text/plain": [
       "250"
      ]
     },
     "execution_count": 38,
     "metadata": {},
     "output_type": "execute_result"
    }
   ],
   "source": [
    "len(movies_dict[\"id\"])"
   ]
  },
  {
   "cell_type": "code",
   "execution_count": 39,
   "metadata": {},
   "outputs": [],
   "source": [
    "movies = pd.DataFrame(movies_dict)\n",
    "actors = pd.DataFrame(actors_dict)\n",
    "movies.to_csv(\"./data/movies.csv\", index=False)\n",
    "actors.to_csv(\"./data/actors.csv\", index=False)"
   ]
  },
  {
   "cell_type": "code",
   "execution_count": 40,
   "metadata": {},
   "outputs": [],
   "source": [
    "driver.quit()"
   ]
  }
 ],
 "metadata": {
  "kernelspec": {
   "display_name": ".venv",
   "language": "python",
   "name": "python3"
  },
  "language_info": {
   "codemirror_mode": {
    "name": "ipython",
    "version": 3
   },
   "file_extension": ".py",
   "mimetype": "text/x-python",
   "name": "python",
   "nbconvert_exporter": "python",
   "pygments_lexer": "ipython3",
   "version": "3.11.3"
  }
 },
 "nbformat": 4,
 "nbformat_minor": 2
}
